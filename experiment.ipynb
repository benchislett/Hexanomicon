{
 "cells": [
  {
   "cell_type": "markdown",
   "metadata": {},
   "source": [
    "# Loading card data"
   ]
  },
  {
   "cell_type": "code",
   "execution_count": 1,
   "metadata": {},
   "outputs": [],
   "source": [
    "import json\n",
    "import time\n",
    "import tqdm\n",
    "import numpy as np\n",
    "import openai"
   ]
  },
  {
   "cell_type": "code",
   "execution_count": 2,
   "metadata": {},
   "outputs": [
    {
     "name": "stdout",
     "output_type": "stream",
     "text": [
      "Loaded 34458 cards\n"
     ]
    }
   ],
   "source": [
    "with open(\"oracle-cards-20250405210637.json\", \"r\") as f:\n",
    "    data = json.load(f)\n",
    "print(f\"Loaded {len(data)} cards\")"
   ]
  },
  {
   "cell_type": "code",
   "execution_count": 3,
   "metadata": {},
   "outputs": [],
   "source": [
    "def get_card_data(oracle_data):\n",
    "    if type(oracle_data) != dict:\n",
    "        print(f\"Invalid oracle data: {oracle_data}\")\n",
    "        return None\n",
    "    if \"memorabilia\" in oracle_data.get(\"set_type\", \"\"):\n",
    "        # skip memorabilia cards\n",
    "        return None\n",
    "    if \"//\" in oracle_data.get(\"name\", \"\"):\n",
    "        # todo: handle double-faced cards separately\n",
    "        return None\n",
    "    if \"mana_cost\" not in oracle_data or oracle_data[\"mana_cost\"] is None:\n",
    "        print(f\"Missing mana_cost for {oracle_data['name']}\")\n",
    "        return None\n",
    "    if \"oracle_text\" not in oracle_data or oracle_data[\"oracle_text\"] is None:\n",
    "        print(f\"Missing oracle_text for {oracle_data['name']}\")\n",
    "        return None\n",
    "    \n",
    "    # check if legal in some format\n",
    "    # legal_formats = oracle_data.get(\"legalities\", []).items()\n",
    "    # legal_formats = [f for f, l in legal_formats if l == \"legal\"]\n",
    "    # if not legal_formats:\n",
    "    #     # include un-set cards\n",
    "    #     if \n",
    "    #     print(f\"Not legal in any format for {oracle_data['name']}\")\n",
    "    #     return None\n",
    "    return {\n",
    "        \"name\": oracle_data[\"name\"],\n",
    "        \"mana_cost\": oracle_data[\"mana_cost\"],\n",
    "        \"cmc\": oracle_data[\"cmc\"],\n",
    "        \"type\": oracle_data[\"type_line\"],\n",
    "        \"text\": oracle_data[\"oracle_text\"],\n",
    "        \"power\": oracle_data.get(\"power\"),\n",
    "        \"toughness\": oracle_data.get(\"toughness\"),\n",
    "        \"loyalty\": oracle_data.get(\"loyalty\"),\n",
    "        \"colors\": oracle_data.get(\"colors\"),\n",
    "        \"keywords\": oracle_data.get(\"keywords\"),\n",
    "    }"
   ]
  },
  {
   "cell_type": "code",
   "execution_count": 6,
   "metadata": {},
   "outputs": [],
   "source": [
    "all_cards_by_name = {card[\"name\"]: get_card_data(card) for card in data}\n",
    "all_cards_by_name = {k: v for k, v in all_cards_by_name.items() if v is not None}"
   ]
  },
  {
   "cell_type": "markdown",
   "metadata": {},
   "source": [
    "# Select a subset of cards to process"
   ]
  },
  {
   "cell_type": "code",
   "execution_count": 7,
   "metadata": {},
   "outputs": [
    {
     "name": "stdout",
     "output_type": "stream",
     "text": [
      "31095 sample cards\n"
     ]
    }
   ],
   "source": [
    "# A number of classic magic cards\n",
    "sample_cards = [\n",
    "    \"Counterspell\",\n",
    "    \"Mana Drain\",\n",
    "    \"Daze\",\n",
    "    \"Force of Will\",\n",
    "    \"Spell Snare\",\n",
    "    \"Mana Leak\",\n",
    "    \"Remand\",\n",
    "    \"Spell Pierce\",\n",
    "    \"Negate\",\n",
    "    \"Dispel\",\n",
    "    \"Logic Knot\",\n",
    "    \"Dash Hopes\",\n",
    "    \"Dovin's Veto\",\n",
    "    \"Cancel\",\n",
    "    \"Arcane Denial\",\n",
    "    \"Counterbalance\",\n",
    "    \"Doomsday\",\n",
    "    \"Cryptic Command\",\n",
    "    \"Swan Song\",\n",
    "    \"Flusterstorm\",\n",
    "    \"Pact of Negation\",\n",
    "    \"Spell Queller\",\n",
    "    \"Stubborn Denial\",\n",
    "    \"Mystical Dispute\",\n",
    "    \"Disdainful Stroke\",\n",
    "    \"Unwind\",\n",
    "    \"Counterflux\",\n",
    "    \"Narset's Reversal\",\n",
    "    \"Siren Stormtamer\",\n",
    "    \"Mana Tithe\",\n",
    "    \"Sphinx's Revelation\",\n",
    "    \"Dismember\",\n",
    "    \"Swords to Plowshares\",\n",
    "    \"Path to Exile\",\n",
    "    \"Terminate\",\n",
    "    \"Lightning Bolt\",\n",
    "    \"Shock\",\n",
    "]\n",
    "\n",
    "sample_cards = [card for card in sample_cards if card in all_cards_by_name]\n",
    "sample_cards = list(all_cards_by_name.keys())\n",
    "print(len(sample_cards), \"sample cards\")"
   ]
  },
  {
   "cell_type": "markdown",
   "metadata": {},
   "source": [
    "# Format card data into text descriptions"
   ]
  },
  {
   "cell_type": "code",
   "execution_count": 8,
   "metadata": {},
   "outputs": [
    {
     "name": "stdout",
     "output_type": "stream",
     "text": [
      "{'name': 'Curse of Thirst', 'mana_cost': '{4}{B}', 'cmc': 5.0, 'type': 'Enchantment — Aura Curse', 'text': \"Enchant player\\nAt the beginning of enchanted player's upkeep, this Aura deals damage to that player equal to the number of Curses attached to them.\", 'power': None, 'toughness': None, 'loyalty': None, 'colors': ['B'], 'keywords': ['Enchant']}\n",
      "The following is a card from the game Magic: The Gathering.\n",
      "\n",
      "Name: Curse of Thirst\n",
      "Mana cost: {4}{B}\n",
      "Converted mana cost: 5.0\n",
      "Type Line: <type> Enchantment — Aura Curse </type>\n",
      "Colors: <colors> Black </colors>\n",
      "Oracle text: <oracle_text> Enchant player\n",
      "At the beginning of enchanted player's upkeep, this Aura deals damage to that player equal to the number of Curses attached to them. </oracle_text>\n",
      "Keywords: <keywords> Enchant </keywords>\n"
     ]
    }
   ],
   "source": [
    "def format_card(card_data):\n",
    "    \"\"\"Format a card for input into a vector-embedding model.\"\"\"\n",
    "    colors = list(map(lambda ch: {\"W\": \"White\", \"U\": \"Blue\", \"B\": \"Black\", \"R\": \"Red\", \"G\": \"Green\"}.get(ch, ch), card_data.get(\"colors\", [])))\n",
    "    prompt = f\"\"\"\n",
    "The following is a card from the game Magic: The Gathering.\n",
    "\n",
    "Name: {card_data[\"name\"]}\n",
    "Mana cost: {card_data[\"mana_cost\"]}\n",
    "Converted mana cost: {card_data[\"cmc\"]}\n",
    "Type Line: <type> {card_data[\"type\"]} </type>\n",
    "Colors: <colors> {\", \".join(colors)} </colors>\n",
    "Oracle text: <oracle_text> {card_data[\"text\"] or \"None\"} </oracle_text>\n",
    "\"\"\"\n",
    "    if card_data[\"loyalty\"] is not None:\n",
    "        prompt += f\"\"\"Loyalty: {card_data[\"loyalty\"]}\n",
    "\"\"\"\n",
    "\n",
    "    if card_data[\"power\"] is not None and card_data[\"toughness\"] is not None:\n",
    "        prompt += f\"\"\"Power: {card_data[\"power\"]}\n",
    "Toughness: {card_data[\"toughness\"]}\n",
    "\"\"\"\n",
    "    if card_data[\"keywords\"] is not None and len(card_data[\"keywords\"]) > 0:\n",
    "        prompt += f\"\"\"Keywords: <keywords> {\", \".join(card_data[\"keywords\"])} </keywords>\n",
    "\"\"\"\n",
    "    return prompt.strip()\n",
    "\n",
    "# sample_cards = list(all_cards_by_name.keys())\n",
    "formatted_cards = [format_card(all_cards_by_name[card]) for card in sample_cards]\n",
    "postprocessed_formatted_cards = formatted_cards\n",
    "print(all_cards_by_name[sample_cards[-10]])\n",
    "print(postprocessed_formatted_cards[-10])"
   ]
  },
  {
   "cell_type": "code",
   "execution_count": 9,
   "metadata": {},
   "outputs": [],
   "source": [
    "# print([postprocessed_formatted_cards[i] for i, name in enumerate(all_cards_by_name.keys()) if \"Planeswalker\" in postprocessed_formatted_cards[i]][0])"
   ]
  },
  {
   "cell_type": "code",
   "execution_count": 10,
   "metadata": {},
   "outputs": [
    {
     "name": "stdout",
     "output_type": "stream",
     "text": [
      "The following is a card from the game Magic: The Gathering.\n",
      "\n",
      "Name: Nissa, Worldsoul Speaker\n",
      "Mana cost: {3}{G}\n",
      "Converted mana cost: 4.0\n",
      "Type Line: <type> Legendary Creature — Elf Druid </type>\n",
      "Colors: <colors> Green </colors>\n",
      "Oracle text: <oracle_text> Landfall — Whenever a land you control enters, you get {E}{E} (two energy counters).\n",
      "You may pay eight {E} rather than pay the mana cost for permanent spells you cast. </oracle_text>\n",
      "Power: 3\n",
      "Toughness: 3\n",
      "Keywords: <keywords> Landfall </keywords>\n",
      "================================================================================\n",
      "The following is a card from the game Magic: The Gathering.\n",
      "\n",
      "Name: Static Orb\n",
      "Mana cost: {3}\n",
      "Converted mana cost: 3.0\n",
      "Type Line: <type> Artifact </type>\n",
      "Colors: <colors>  </colors>\n",
      "Oracle text: <oracle_text> As long as this artifact is untapped, players can't untap more than two permanents during their untap steps. </oracle_text>\n",
      "================================================================================\n"
     ]
    }
   ],
   "source": [
    "for prompt in formatted_cards[:2]:\n",
    "    print(prompt)\n",
    "    print(\"=\" * 80)"
   ]
  },
  {
   "cell_type": "markdown",
   "metadata": {},
   "source": [
    "# [Optional][WIP] Use an LLM to expand the card descriptions"
   ]
  },
  {
   "cell_type": "code",
   "execution_count": 7,
   "metadata": {},
   "outputs": [],
   "source": [
    "def prepare_postprocessing_prompts(card_descriptions):\n",
    "    prompts = []\n",
    "    for text in card_descriptions:\n",
    "        prompt = f\"\"\"\n",
    "## ROLE\n",
    "You are an expert Magic: the Gathering rules analyst.\n",
    "\n",
    "## TASK\n",
    "Generate compact, retrieval-oriented annotations for the card below.  \n",
    "Return ONLY the JSON object described in *Output schema* (inside a ```json block).  \n",
    "Do **not** repeat the card's rules text or name.\n",
    "\n",
    "## INPUT\n",
    "{text}\n",
    "\"\"\" + \"\"\"\n",
    "## OUTPUT SCHEMA\n",
    "```json\n",
    "{\n",
    "  \"mechanics\": [\"<up to 7 MTG keywords or shorthand, e.g. \\\"ETB\\\", \\\"dies trigger\\\", \\\"lifegain\\\" >\"],\n",
    "  \"roles\":    [\"<card roles: ramp, removal, finisher, toolbox, etc.>\"],\n",
    "  \"strategies\":[\"<decks or archetypes it fits: aristocrats, blink, etc.>\"],\n",
    "  \"synergies\":[\"<key tribes, card types, or mechanics it combines with>\"],\n",
    "  \"power_band\":\"<one of: low | medium | high>\",\n",
    "  \"why_pick\": \"< brief sentence on if, or why players use it >\"\n",
    "}\n",
    "```\n",
    "\"\"\"\n",
    "        prompts.append(prompt.strip())\n",
    "    return prompts\n",
    "\n",
    "postprocessing_prompts = prepare_postprocessing_prompts(formatted_cards)"
   ]
  },
  {
   "cell_type": "markdown",
   "metadata": {},
   "source": [
    "## Using Qwen locally with vLLM"
   ]
  },
  {
   "cell_type": "code",
   "execution_count": 8,
   "metadata": {},
   "outputs": [
    {
     "name": "stderr",
     "output_type": "stream",
     "text": [
      "/home/benchislett/Repos/Hexanomicon/.venv/lib/python3.12/site-packages/tqdm/auto.py:21: TqdmWarning: IProgress not found. Please update jupyter and ipywidgets. See https://ipywidgets.readthedocs.io/en/stable/user_install.html\n",
      "  from .autonotebook import tqdm as notebook_tqdm\n"
     ]
    },
    {
     "name": "stdout",
     "output_type": "stream",
     "text": [
      "INFO 04-23 15:51:07 [__init__.py:239] Automatically detected platform cuda.\n"
     ]
    },
    {
     "name": "stderr",
     "output_type": "stream",
     "text": [
      "2025-04-23 15:51:07,749\tINFO util.py:154 -- Missing packages: ['ipywidgets']. Run `pip install -U ipywidgets`, then restart the notebook server for rich notebook output.\n"
     ]
    },
    {
     "name": "stdout",
     "output_type": "stream",
     "text": [
      "INFO 04-23 15:51:11 [config.py:689] This model supports multiple tasks: {'score', 'embed', 'generate', 'classify', 'reward'}. Defaulting to 'generate'.\n",
      "INFO 04-23 15:51:11 [config.py:1901] Chunked prefill is enabled with max_num_batched_tokens=8192.\n",
      "INFO 04-23 15:51:12 [core.py:61] Initializing a V1 LLM engine (v0.8.4) with config: model='Qwen/Qwen2.5-7B-Instruct', speculative_config=None, tokenizer='Qwen/Qwen2.5-7B-Instruct', skip_tokenizer_init=False, tokenizer_mode=auto, revision=None, override_neuron_config=None, tokenizer_revision=None, trust_remote_code=False, dtype=torch.bfloat16, max_seq_len=32768, download_dir=None, load_format=LoadFormat.AUTO, tensor_parallel_size=1, pipeline_parallel_size=1, disable_custom_all_reduce=False, quantization=fp8, enforce_eager=False, kv_cache_dtype=auto,  device_config=cuda, decoding_config=DecodingConfig(guided_decoding_backend='auto', reasoning_backend=None), observability_config=ObservabilityConfig(show_hidden_metrics=False, otlp_traces_endpoint=None, collect_model_forward_time=False, collect_model_execute_time=False), seed=None, served_model_name=Qwen/Qwen2.5-7B-Instruct, num_scheduler_steps=1, multi_step_stream_outputs=True, enable_prefix_caching=True, chunked_prefill_enabled=True, use_async_output_proc=True, disable_mm_preprocessor_cache=False, mm_processor_kwargs=None, pooler_config=None, compilation_config={\"level\":3,\"custom_ops\":[\"none\"],\"splitting_ops\":[\"vllm.unified_attention\",\"vllm.unified_attention_with_output\"],\"use_inductor\":true,\"compile_sizes\":[],\"use_cudagraph\":true,\"cudagraph_num_of_warmups\":1,\"cudagraph_capture_sizes\":[512,504,496,488,480,472,464,456,448,440,432,424,416,408,400,392,384,376,368,360,352,344,336,328,320,312,304,296,288,280,272,264,256,248,240,232,224,216,208,200,192,184,176,168,160,152,144,136,128,120,112,104,96,88,80,72,64,56,48,40,32,24,16,8,4,2,1],\"max_capture_size\":512}\n",
      "WARNING 04-23 15:51:13 [utils.py:2444] Methods determine_num_available_blocks,device_config,get_cache_block_size_bytes,initialize_cache not implemented in <vllm.v1.worker.gpu_worker.Worker object at 0x7ef1d56e94c0>\n",
      "INFO 04-23 15:51:13 [parallel_state.py:959] rank 0 in world size 1 is assigned as DP rank 0, PP rank 0, TP rank 0\n",
      "INFO 04-23 15:51:13 [cuda.py:221] Using Flash Attention backend on V1 engine.\n",
      "INFO 04-23 15:51:13 [gpu_model_runner.py:1276] Starting to load model Qwen/Qwen2.5-7B-Instruct...\n",
      "WARNING 04-23 15:51:13 [topk_topp_sampler.py:69] FlashInfer is not available. Falling back to the PyTorch-native implementation of top-p & top-k sampling. For the best performance, please install FlashInfer.\n",
      "INFO 04-23 15:51:13 [weight_utils.py:265] Using model weights format ['*.safetensors']\n"
     ]
    },
    {
     "name": "stderr",
     "output_type": "stream",
     "text": [
      "Loading safetensors checkpoint shards:   0% Completed | 0/4 [00:00<?, ?it/s]\n",
      "Loading safetensors checkpoint shards:  25% Completed | 1/4 [00:00<00:01,  2.85it/s]\n",
      "Loading safetensors checkpoint shards:  50% Completed | 2/4 [00:00<00:00,  2.78it/s]\n",
      "Loading safetensors checkpoint shards:  75% Completed | 3/4 [00:01<00:00,  2.66it/s]\n",
      "Loading safetensors checkpoint shards: 100% Completed | 4/4 [00:01<00:00,  2.63it/s]\n",
      "Loading safetensors checkpoint shards: 100% Completed | 4/4 [00:01<00:00,  2.67it/s]\n",
      "\n"
     ]
    },
    {
     "name": "stdout",
     "output_type": "stream",
     "text": [
      "INFO 04-23 15:51:15 [loader.py:458] Loading weights took 1.54 seconds\n",
      "INFO 04-23 15:51:15 [gpu_model_runner.py:1291] Model loading took 8.1372 GiB and 1.889585 seconds\n",
      "INFO 04-23 15:51:19 [backends.py:416] Using cache directory: /home/benchislett/.cache/vllm/torch_compile_cache/fdfad17ec6/rank_0_0 for vLLM's torch.compile\n",
      "INFO 04-23 15:51:19 [backends.py:426] Dynamo bytecode transform time: 3.94 s\n",
      "INFO 04-23 15:51:21 [backends.py:132] Cache the graph of shape None for later use\n",
      "INFO 04-23 15:51:32 [backends.py:144] Compiling a graph for general shape takes 12.07 s\n",
      "INFO 04-23 15:51:43 [monitor.py:33] torch.compile takes 16.00 s in total\n",
      "INFO 04-23 15:51:44 [kv_cache_utils.py:634] GPU KV cache size: 50,512 tokens\n",
      "INFO 04-23 15:51:44 [kv_cache_utils.py:637] Maximum concurrency for 32,768 tokens per request: 1.54x\n",
      "INFO 04-23 15:52:21 [gpu_model_runner.py:1626] Graph capturing finished in 37 secs, took 0.49 GiB\n",
      "INFO 04-23 15:52:21 [core.py:163] init engine (profile, create kv cache, warmup model) took 65.11 seconds\n",
      "INFO 04-23 15:52:21 [core_client.py:435] Core engine process 0 ready.\n",
      "INFO 04-23 15:52:21 [chat_utils.py:396] Detected the chat template content format to be 'string'. You can set `--chat-template-content-format` to override this.\n"
     ]
    },
    {
     "name": "stderr",
     "output_type": "stream",
     "text": [
      "Processed prompts: 100%|██████████| 1/1 [00:02<00:00,  2.56s/it, est. speed input: 4342.67 toks/s, output: 27.37 toks/s]\n"
     ]
    }
   ],
   "source": [
    "from vllm import LLM, SamplingParams\n",
    "\n",
    "sampling_params = SamplingParams(temperature=0.3, top_p=0.95, max_tokens=512)\n",
    "llm = LLM(model=\"Qwen/Qwen2.5-7B-Instruct\", quantization=\"fp8\")\n",
    "outputs = llm.chat(messages=[{\"role\": \"user\", \"content\": prompt} for prompt in postprocessing_prompts], sampling_params=sampling_params)"
   ]
  },
  {
   "cell_type": "code",
   "execution_count": 16,
   "metadata": {},
   "outputs": [
    {
     "name": "stderr",
     "output_type": "stream",
     "text": [
      "Processed prompts: 100%|██████████| 37/37 [00:02<00:00, 13.17it/s, est. speed input: 4260.25 toks/s, output: 1113.38 toks/s]\n"
     ]
    }
   ],
   "source": [
    "outputs = llm.chat(messages=[[{\"role\": \"user\", \"content\": prompt}] for prompt in postprocessing_prompts], sampling_params=sampling_params)"
   ]
  },
  {
   "cell_type": "code",
   "execution_count": 36,
   "metadata": {},
   "outputs": [
    {
     "name": "stdout",
     "output_type": "stream",
     "text": [
      "The following is a card from the game Magic: The Gathering.\n",
      "\n",
      "Name: Daze\n",
      "Mana cost: {1}{U}\n",
      "Converted mana cost: 2.0\n",
      "Type Line: Instant\n",
      "Oracle text: You may return an Island you control to its owner's hand rather than pay this spell's mana cost.\n",
      "Counter target spell unless its controller pays {1}.\n",
      "Power: None\n",
      "Toughness: None\n",
      "Loyalty: None\n",
      "\n",
      "\n",
      "\n",
      "\n"
     ]
    },
    {
     "data": {
      "text/plain": [
       "{'mechanics': ['Instant', 'Counter', 'Return'],\n",
       " 'roles': ['Removal', 'Ramp'],\n",
       " 'strategies': ['Control', 'Blue Weenie'],\n",
       " 'synergies': ['Counterspells', 'Islands', 'Blue Spells'],\n",
       " 'power_band': 'medium',\n",
       " 'why_pick': 'Flexible removal and mana ramp in a single card.'}"
      ]
     },
     "execution_count": 36,
     "metadata": {},
     "output_type": "execute_result"
    }
   ],
   "source": [
    "def parse_output(model_output):\n",
    "    \"\"\"Parse the model output into a JSON object.\"\"\"\n",
    "    try:\n",
    "        model_output = model_output.strip(\"```\").strip(\"json\").strip()\n",
    "        return json.loads(model_output)\n",
    "    except json.JSONDecodeError as e:\n",
    "        print(f\"Failed to parse JSON: {e}\")\n",
    "        return None\n",
    "\n",
    "print(formatted_cards[2])\n",
    "print('\\n\\n\\n')\n",
    "parse_output(outputs[2].outputs[0].text)"
   ]
  },
  {
   "cell_type": "code",
   "execution_count": 45,
   "metadata": {},
   "outputs": [
    {
     "name": "stdout",
     "output_type": "stream",
     "text": [
      "## ROLE\n",
      "You are an expert Magic: the Gathering rules analyst.\n",
      "\n",
      "## TASK\n",
      "Generate compact, retrieval-oriented annotations for the card below.  \n",
      "Return ONLY the JSON object described in *Output schema* (inside a ```json block).  \n",
      "Do **not** repeat the card's rules text or name.\n",
      "\n",
      "## INPUT\n",
      "The following is a card from the game Magic: The Gathering.\n",
      "\n",
      "Name: Daze\n",
      "Mana cost: {1}{U}\n",
      "Converted mana cost: 2.0\n",
      "Type Line: Instant\n",
      "Oracle text: You may return an Island you control to its owner's hand rather than pay this spell's mana cost.\n",
      "Counter target spell unless its controller pays {1}.\n",
      "Power: None\n",
      "Toughness: None\n",
      "Loyalty: None\n",
      "\n",
      "## OUTPUT SCHEMA\n",
      "```json\n",
      "{\n",
      "  \"mechanics\": [\"<up to 7 MTG keywords or shorthand, e.g. \"ETB\", \"dies trigger\", \"lifegain\" >\"],\n",
      "  \"roles\":    [\"<card roles: ramp, removal, finisher, toolbox, etc.>\"],\n",
      "  \"strategies\":[\"<decks or archetypes it fits: aristocrats, blink, etc.>\"],\n",
      "  \"synergies\":[\"<key tribes, card types, or mechanics it combines with>\"],\n",
      "  \"power_band\":\"<one of: low | medium | high>\",\n",
      "  \"why_pick\": \"< brief sentence on if, or why players use it >\"\n",
      "}\n",
      "```\n"
     ]
    }
   ],
   "source": [
    "print(postprocessing_prompts[2])"
   ]
  },
  {
   "cell_type": "markdown",
   "metadata": {},
   "source": [
    "# Embed the card descriptions"
   ]
  },
  {
   "cell_type": "code",
   "execution_count": 11,
   "metadata": {},
   "outputs": [
    {
     "data": {
      "text/plain": [
       "31095"
      ]
     },
     "execution_count": 11,
     "metadata": {},
     "output_type": "execute_result"
    }
   ],
   "source": [
    "len(formatted_cards)"
   ]
  },
  {
   "cell_type": "code",
   "execution_count": 19,
   "metadata": {},
   "outputs": [],
   "source": [
    "embedding_client = openai.Client(base_url=\"http://localhost:30000/v1\", api_key=\"None\")"
   ]
  },
  {
   "cell_type": "code",
   "execution_count": null,
   "metadata": {},
   "outputs": [
    {
     "name": "stderr",
     "output_type": "stream",
     "text": [
      "100%|██████████| 311/311 [23:46<00:00,  4.59s/it]\n"
     ]
    },
    {
     "data": {
      "text/plain": [
       "(31095, 3584)"
      ]
     },
     "execution_count": 39,
     "metadata": {},
     "output_type": "execute_result"
    }
   ],
   "source": [
    "all_embeddings = []\n",
    "\n",
    "batch_size = 100\n",
    "for i in tqdm.tqdm(range(0, len(formatted_cards), batch_size)):\n",
    "    batch = formatted_cards[i:i + batch_size]\n",
    "    response = embedding_client.embeddings.create(\n",
    "        model=\"Alibaba-NLP/gte-Qwen2-7B-instruct\",\n",
    "        input=batch,\n",
    "        user=\"user\"\n",
    "    )\n",
    "    all_embeddings.extend(map(lambda s: s.embedding, response.data))\n",
    "\n",
    "len(all_embeddings), len(all_embeddings[0])"
   ]
  },
  {
   "cell_type": "code",
   "execution_count": 40,
   "metadata": {},
   "outputs": [
    {
     "data": {
      "text/plain": [
       "((31095, 3584), dtype('float64'))"
      ]
     },
     "execution_count": 40,
     "metadata": {},
     "output_type": "execute_result"
    }
   ],
   "source": [
    "all_embeddings_np = np.array(all_embeddings)\n",
    "all_embeddings_np.shape, all_embeddings_np.dtype"
   ]
  },
  {
   "cell_type": "code",
   "execution_count": 41,
   "metadata": {},
   "outputs": [],
   "source": [
    "np.save(\"formatted_cards_embeddings.npy\", all_embeddings_np)"
   ]
  },
  {
   "cell_type": "code",
   "execution_count": 12,
   "metadata": {},
   "outputs": [],
   "source": [
    "all_embeddings = np.load(\"formatted_cards_embeddings.npy\")"
   ]
  },
  {
   "cell_type": "code",
   "execution_count": 13,
   "metadata": {},
   "outputs": [],
   "source": [
    "import textwrap\n",
    "import chromadb\n",
    "import pandas as pd\n",
    "from IPython.display import Markdown\n",
    "from chromadb import Documents, EmbeddingFunction, Embeddings"
   ]
  },
  {
   "cell_type": "code",
   "execution_count": 14,
   "metadata": {},
   "outputs": [],
   "source": [
    "chroma_client = chromadb.Client()\n",
    "db = chroma_client.create_collection(\n",
    "    \"MTGCardsDatabase\",\n",
    ")"
   ]
  },
  {
   "cell_type": "code",
   "execution_count": 17,
   "metadata": {},
   "outputs": [
    {
     "name": "stderr",
     "output_type": "stream",
     "text": [
      "  0%|          | 0/311 [00:00<?, ?it/s]"
     ]
    },
    {
     "name": "stderr",
     "output_type": "stream",
     "text": [
      "100%|██████████| 311/311 [00:25<00:00, 12.12it/s]\n"
     ]
    }
   ],
   "source": [
    "assert len(all_embeddings) == len(formatted_cards)\n",
    "batch_size = 100\n",
    "for batch in tqdm.tqdm(range(0, len(formatted_cards), batch_size)):\n",
    "    batch_documents = formatted_cards[batch:batch + batch_size]\n",
    "    batch_embeddings = all_embeddings[batch:batch + batch_size]\n",
    "    batch_ids = sample_cards[batch:batch + batch_size]\n",
    "    db.add(\n",
    "        documents=batch_documents,\n",
    "        embeddings=batch_embeddings,\n",
    "        ids=batch_ids,\n",
    "    )\n",
    "# db.add(\n",
    "#     documents=formatted_cards,\n",
    "#     embeddings=all_embeddings,\n",
    "#     ids=sample_cards,\n",
    "# )"
   ]
  },
  {
   "cell_type": "code",
   "execution_count": 40,
   "metadata": {},
   "outputs": [],
   "source": [
    "test_query = \"colours Black, Green elf draw a card\"\n",
    "query_embedding = response = embedding_client.embeddings.create(\n",
    "    model=\"Alibaba-NLP/gte-Qwen2-7B-instruct\",\n",
    "    input=test_query,\n",
    "    user=\"user\"\n",
    ")"
   ]
  },
  {
   "cell_type": "code",
   "execution_count": 41,
   "metadata": {},
   "outputs": [
    {
     "data": {
      "text/plain": [
       "array([-0.01178741,  0.01060486,  0.01307678, ..., -0.02017212,\n",
       "       -0.01441193, -0.00382042], shape=(3584,))"
      ]
     },
     "execution_count": 41,
     "metadata": {},
     "output_type": "execute_result"
    }
   ],
   "source": [
    "query_embedding = np.array(query_embedding.data[0].embedding)\n",
    "query_embedding"
   ]
  },
  {
   "cell_type": "code",
   "execution_count": 50,
   "metadata": {},
   "outputs": [],
   "source": [
    "res = db.query(\n",
    "    query_embeddings=[query_embedding],\n",
    "    n_results=20,\n",
    ")"
   ]
  },
  {
   "cell_type": "code",
   "execution_count": 51,
   "metadata": {},
   "outputs": [
    {
     "data": {
      "text/plain": [
       "[['The following is a card from the game Magic: The Gathering.\\n\\nName: Young Necromancer\\nMana cost: {4}{B}\\nConverted mana cost: 5.0\\nType Line: <type> Creature — Human Warlock </type>\\nColors: <colors> Black </colors>\\nOracle text: <oracle_text> When this creature enters, you may exile two cards from your graveyard. When you do, return target creature card from your graveyard to the battlefield. </oracle_text>\\nPower: 2\\nToughness: 3',\n",
       "  'The following is a card from the game Magic: The Gathering.\\n\\nName: Skemfar Shadowsage\\nMana cost: {3}{B}\\nConverted mana cost: 4.0\\nType Line: <type> Creature — Elf Cleric </type>\\nColors: <colors> Black </colors>\\nOracle text: <oracle_text> When this creature enters, choose one —\\n• Each opponent loses X life, where X is the greatest number of creatures you control that have a creature type in common.\\n• You gain X life, where X is the greatest number of creatures you control that have a creature type in common. </oracle_text>\\nPower: 2\\nToughness: 5',\n",
       "  'The following is a card from the game Magic: The Gathering.\\n\\nName: Ghosts of the Innocent\\nMana cost: {5}{W}{W}\\nConverted mana cost: 7.0\\nType Line: <type> Creature — Spirit </type>\\nColors: <colors> White </colors>\\nOracle text: <oracle_text> If a source would deal damage to a permanent or player, it deals half that damage, rounded down, to that permanent or player instead. </oracle_text>\\nPower: 4\\nToughness: 5',\n",
       "  'The following is a card from the game Magic: The Gathering.\\n\\nName: Protector of the Crown\\nMana cost: {5}{W}\\nConverted mana cost: 6.0\\nType Line: <type> Creature — Giant Soldier </type>\\nColors: <colors> White </colors>\\nOracle text: <oracle_text> When this creature enters, you become the monarch.\\nAll damage that would be dealt to you is dealt to this creature instead. </oracle_text>\\nPower: 2\\nToughness: 5',\n",
       "  \"The following is a card from the game Magic: The Gathering.\\n\\nName: Rotfeaster Maggot\\nMana cost: {4}{B}\\nConverted mana cost: 5.0\\nType Line: <type> Creature — Insect </type>\\nColors: <colors> Black </colors>\\nOracle text: <oracle_text> When this creature enters, exile target creature card from a graveyard. You gain life equal to that card's toughness. </oracle_text>\\nPower: 3\\nToughness: 5\",\n",
       "  'The following is a card from the game Magic: The Gathering.\\n\\nName: Primordial Sage\\nMana cost: {4}{G}{G}\\nConverted mana cost: 6.0\\nType Line: <type> Creature — Spirit </type>\\nColors: <colors> Green </colors>\\nOracle text: <oracle_text> Whenever you cast a creature spell, you may draw a card. </oracle_text>\\nPower: 4\\nToughness: 5',\n",
       "  'The following is a card from the game Magic: The Gathering.\\n\\nName: Harbinger of Night\\nMana cost: {2}{B}{B}\\nConverted mana cost: 4.0\\nType Line: <type> Creature — Spirit </type>\\nColors: <colors> Black </colors>\\nOracle text: <oracle_text> At the beginning of your upkeep, put a -1/-1 counter on each creature. </oracle_text>\\nPower: 2\\nToughness: 3',\n",
       "  'The following is a card from the game Magic: The Gathering.\\n\\nName: Phyrexian Snowcrusher\\nMana cost: {6}\\nConverted mana cost: 6.0\\nType Line: <type> Snow Artifact Creature — Phyrexian Juggernaut </type>\\nColors: <colors>  </colors>\\nOracle text: <oracle_text> This creature attacks each combat if able.\\n{1}{S}: This creature gets +1/+0 until end of turn. ({S} can be paid with one mana from a snow source.) </oracle_text>\\nPower: 6\\nToughness: 5',\n",
       "  'The following is a card from the game Magic: The Gathering.\\n\\nName: Thallid Soothsayer\\nMana cost: {3}{B}\\nConverted mana cost: 4.0\\nType Line: <type> Creature — Fungus </type>\\nColors: <colors> Black </colors>\\nOracle text: <oracle_text> {2}, Sacrifice a creature: Draw a card. </oracle_text>\\nPower: 2\\nToughness: 3',\n",
       "  'The following is a card from the game Magic: The Gathering.\\n\\nName: Springmantle Cleric\\nMana cost: {4}{G}\\nConverted mana cost: 5.0\\nType Line: <type> Creature — Elf Cleric </type>\\nColors: <colors> Green </colors>\\nOracle text: <oracle_text> This creature enters with a +1/+1 counter on it for each color of mana spent to cast it. </oracle_text>\\nPower: 2\\nToughness: 3',\n",
       "  \"The following is a card from the game Magic: The Gathering.\\n\\nName: Unclaimed Tanadon\\nMana cost: {5}{G}{G}\\nConverted mana cost: 7.0\\nType Line: <type> Artifact Creature — Beast </type>\\nColors: <colors> Green </colors>\\nOracle text: <oracle_text> If you're on the Mirran team, this card costs {1} less to cast.\\nIf you're on the Phyrexian team, the colored mana symbols in Unclaimed Tanadon's mana cost are Phyrexian mana. (You can pay them either with {G} or 2 life.) </oracle_text>\\nPower: 8\\nToughness: 6\",\n",
       "  \"The following is a card from the game Magic: The Gathering.\\n\\nName: A-Baleful Beholder\\nMana cost: {4}{B}{B}\\nConverted mana cost: 6.0\\nType Line: <type> Creature — Beholder </type>\\nColors: <colors> Black </colors>\\nOracle text: <oracle_text> When Baleful Beholder enters, choose one —\\n• Antimagic Cone — Each opponent sacrifices an enchantment.\\n• Fear Ray — Creatures you control gain menace until end of turn. (A creature with menace can't be blocked except by two or more creatures.) </oracle_text>\\nPower: 7\\nToughness: 5\",\n",
       "  'The following is a card from the game Magic: The Gathering.\\n\\nName: Tithebearer Giant\\nMana cost: {5}{B}\\nConverted mana cost: 6.0\\nType Line: <type> Creature — Giant Warrior </type>\\nColors: <colors> Black </colors>\\nOracle text: <oracle_text> When this creature enters, you draw a card and you lose 1 life. </oracle_text>\\nPower: 4\\nToughness: 5',\n",
       "  'The following is a card from the game Magic: The Gathering.\\n\\nName: Makeshift Mauler\\nMana cost: {3}{U}\\nConverted mana cost: 4.0\\nType Line: <type> Creature — Zombie Horror </type>\\nColors: <colors> Blue </colors>\\nOracle text: <oracle_text> As an additional cost to cast this spell, exile a creature card from your graveyard. </oracle_text>\\nPower: 4\\nToughness: 5',\n",
       "  'The following is a card from the game Magic: The Gathering.\\n\\nName: Soulstinger\\nMana cost: {3}{B}\\nConverted mana cost: 4.0\\nType Line: <type> Creature — Scorpion Demon </type>\\nColors: <colors> Black </colors>\\nOracle text: <oracle_text> When this creature enters, put two -1/-1 counters on target creature you control.\\nWhen this creature dies, you may put a -1/-1 counter on target creature for each -1/-1 counter on this creature. </oracle_text>\\nPower: 4\\nToughness: 5',\n",
       "  'The following is a card from the game Magic: The Gathering.\\n\\nName: Marshmist Titan\\nMana cost: {6}{B}\\nConverted mana cost: 7.0\\nType Line: <type> Creature — Giant </type>\\nColors: <colors> Black </colors>\\nOracle text: <oracle_text> This spell costs {X} less to cast, where X is your devotion to black. (Each {B} in the mana costs of permanents you control counts toward your devotion to black.) </oracle_text>\\nPower: 4\\nToughness: 5',\n",
       "  'The following is a card from the game Magic: The Gathering.\\n\\nName: Grave Sifter\\nMana cost: {5}{G}\\nConverted mana cost: 6.0\\nType Line: <type> Creature — Elemental Beast </type>\\nColors: <colors> Green </colors>\\nOracle text: <oracle_text> When this creature enters, each player chooses a creature type and returns any number of cards of that type from their graveyard to their hand. </oracle_text>\\nPower: 5\\nToughness: 7',\n",
       "  'The following is a card from the game Magic: The Gathering.\\n\\nName: Magus of the Mind\\nMana cost: {4}{U}{U}\\nConverted mana cost: 6.0\\nType Line: <type> Creature — Human Wizard </type>\\nColors: <colors> Blue </colors>\\nOracle text: <oracle_text> {U}, {T}, Sacrifice this creature: Shuffle your library, then exile the top X cards, where X is one plus the number of spells cast this turn. Until end of turn, you may play lands and cast spells from among cards exiled this way without paying their mana costs. </oracle_text>\\nPower: 4\\nToughness: 5',\n",
       "  'The following is a card from the game Magic: The Gathering.\\n\\nName: Sanguine Praetor\\nMana cost: {6}{B}{B}\\nConverted mana cost: 8.0\\nType Line: <type> Creature — Avatar Praetor </type>\\nColors: <colors> Black </colors>\\nOracle text: <oracle_text> {B}, Sacrifice a creature: Destroy each creature with the same mana value as the sacrificed creature. </oracle_text>\\nPower: 7\\nToughness: 5',\n",
       "  'The following is a card from the game Magic: The Gathering.\\n\\nName: Diviner Spirit\\nMana cost: {4}{U}\\nConverted mana cost: 5.0\\nType Line: <type> Creature — Spirit </type>\\nColors: <colors> Blue </colors>\\nOracle text: <oracle_text> Whenever this creature deals combat damage to a player, you and that player each draw that many cards. </oracle_text>\\nPower: 2\\nToughness: 4']]"
      ]
     },
     "execution_count": 51,
     "metadata": {},
     "output_type": "execute_result"
    }
   ],
   "source": [
    "res[\"documents\"]"
   ]
  },
  {
   "cell_type": "code",
   "execution_count": 52,
   "metadata": {},
   "outputs": [],
   "source": [
    "# format the documents with the query for re-ranking\n",
    "documents_string = \"\"\n",
    "for i, doc in enumerate(res[\"documents\"][0]):\n",
    "    documents_string += f\"[{i + 1}]: {doc}\\n\"\n",
    "\n",
    "rerank_prompt = f\"\"\"\n",
    "You are a language model responsible for re-ranking search findings in an application for finding Magic: The Gathering cards.\n",
    "Your purpose is to rank documents based on their relevance to the user's query. Consider the query details, the content of the card descriptions, and the context of the game.\n",
    "The following is a user query: <query> {test_query} </query>. \n",
    "\n",
    "Please output only a JSON object with the schema described below. Do not include any other text or explanations. Ensure that the output is valid JSON, and that all documents are included in the ranking exactly once.\n",
    "\n",
    "Here is an example of the output format assuming there are 10 input documents and they are already in the correct order:\n",
    "```json\n",
    "{\"{\"}\n",
    "  \"ranking\": [1, 2, 3, 4, 5, 6, 7, 8, 9, 10]\n",
    "{\"}\"}\n",
    "```\n",
    "\n",
    "Here are the documents:\\n\\n\"\"\" + documents_string\n",
    "\n",
    "llm_client = openai.Client(base_url=\"http://localhost:30001/v1\", api_key=\"None\")\n",
    "rerank_response = llm_client.chat.completions.create(\n",
    "    model=\"google/gemma-3-27b-it\",\n",
    "    messages=[{\"role\": \"user\", \"content\": rerank_prompt}],\n",
    ")\n"
   ]
  },
  {
   "cell_type": "code",
   "execution_count": 53,
   "metadata": {},
   "outputs": [
    {
     "name": "stdout",
     "output_type": "stream",
     "text": [
      "ChatCompletion(id='8c579c06394545f48325f1bb4a17e7f6', choices=[Choice(finish_reason='stop', index=0, logprobs=None, message=ChatCompletionMessage(content='Okay, I understand. You want me to re-rank Magic: The Gathering card results based on a user\\'s query. I will act as the re-ranking engine, focusing on relevance to the query, card content, and game context.\\n\\nHowever, you\\'ve provided a very strange and fragmented set of \"documents\" and a \"query.\" It looks like a lot of text has been chopped up and concatenated. I\\'m going to assume you want me to still demonstrate how I would work, so I\\'ll treat each of the sections delimited by \"text\" and \"Colors\" as a potential card or document. I will also try to infer the user query based on the overall content.\\n\\n**Inferred User Query:** \"Find me cards that interact with or are related to \\'life,\\' \\'sacrifice,\\' \\'control,\\' \\'draw,\\' \\'the,\\' \\'a,\\' \\'and,\\' \\'or,\\' \\'the,\\' \\'to,\\' \\'with,\\' and \\'this,\\' as these words appear repeatedly in the provided text.\" (This is a rough estimate given the data\\'s poor formatting.)\\n\\n**How I\\' Will Rank (Principles):**\\n\\n*   **Keyword Match:** Cards containing keywords from the query (life, sacrifice, control, draw, etc.) will be ranked higher.\\n*   **Contextual Relevance:**  Cards with abilities that directly relate to the concepts of \\'life,\\' \\'sacrifice,\\' or \\'control\\' will be favored.\\n*   **Game Knowledge (Limited):** I will try to use my general understanding of Magic: The Gathering to identify cards that fit the theme. I do not have access to a card database, so this will be limited.\\n*   **Completeness:** More complete and legible \"card\" descriptions will rank higher.\\n\\n**Ranking the Documents (from most to least relevant, based on the provided data):**\\n\\n1. **\"Life\" and \"sacrifice\" Cards:**\\n    *   **\"The\" and \"Life\" Cards:** These seem to be related to life totals and life gain, so they are relevant.\\n    *   **\"Sacrifice\" Cards:** Any cards with the word \"sacrifice\" or description relating to it are high priority.\\n\\n2. **\"Control\" and \"Draw\" Cards:**\\n    *   **\"Control\" and \"Draw\" Cards:** Cards with these keywords in their names or text are highly relevant.\\n    *   **\"Draw\" Cards:** Cards with the word \"draw\" in their text are relevant\\n\\n3. **\"The\" and \"A\" - High Frequency:**\\n    *   **\"The\" and \"A\" Cards:** Many cards have these, but they are less specific.\\n\\n4. **\"And,\" \"Or,\" \"To,\" \"With,\" \"This\" - Common:**\\n    *   **\"And,\" \"Or,\" \"To,\" \"With,\" \"This\" Cards:** These words are common in card text, so they\\'re least helpful for ranking.\\n\\n**Specific Document Ranking (with estimated reasoning):**\\n\\n*(Note: I\\'m numbering these based on the order in your original text.)*\\n\\n1.  **\"6\":** (The frequency of this card is quite high)\\n2.  **\"5\":** (A good candidate for relevance)\\n3.  **\"4\":** (Another possible candidate)\\n4.  **\"8\":** (A potential candidate)\\n5.  **\"1\":** (Candidate)\\n6.  **\"2\":** (Candidate)\\n7.  **\"9\":** (Candidate)\\n8.  **\"10\":** (Candidate)\\n\\n**Explanation of the Re-Ranking:**\\n\\nSince the data is so fragmented, it\\'s hard to assign meaningful scores. I\\'ve prioritized documents that contain the most relevant keywords from the inferred query.\\n\\n**Important Considerations:**\\n\\n*   **Data Quality:** The biggest issue is the poor quality of the \"documents.\" If you provide properly formatted card data (name, rules text, mana cost, etc.), I can provide a much more accurate and informative re-ranking.\\n*   **Contextual Understanding:** I am a language model, and my understanding of Magic: The Gathering is limited.\\n*   **User Intent:** If you can provide a more precise user query, I can refine the re-ranking algorithm.\\n\\n**In summary:** I have demonstrated the process of re-ranking, given the constraints of the data. I will need more structured and complete information to perform effectively.\\n', refusal=None, role='assistant', annotations=None, audio=None, function_call=None, tool_calls=None, reasoning_content=None), matched_stop=106)], created=1745691957, model='google/gemma-3-27b-it', object='chat.completion', service_tier=None, system_fingerprint=None, usage=CompletionUsage(completion_tokens=941, prompt_tokens=2720, total_tokens=3661, completion_tokens_details=None, prompt_tokens_details=None))\n"
     ]
    }
   ],
   "source": [
    "print(rerank_response)"
   ]
  },
  {
   "cell_type": "code",
   "execution_count": 54,
   "metadata": {},
   "outputs": [
    {
     "name": "stdout",
     "output_type": "stream",
     "text": [
      "Failed to extract JSON: substring not found\n",
      "None\n"
     ]
    }
   ],
   "source": [
    "def extract_rerank_response(rerank_response):\n",
    "    \"\"\"Extract the rerank response from the model output.\"\"\"\n",
    "    try:\n",
    "        rerank_response = rerank_response.choices[0].message.content\n",
    "        start_index = rerank_response.index(\"```json\") + len(\"```json\") + 1\n",
    "        # end index is at the ``` after the JSON\n",
    "        end_index = start_index + rerank_response[start_index:].index(\"```\")\n",
    "        data = json.loads(rerank_response[start_index:end_index])\n",
    "        ranking = data[\"ranking\"]\n",
    "        if not isinstance(ranking, list):\n",
    "            raise ValueError(\"Ranking is not a list\")\n",
    "        # if len(ranking) != len(res[\"documents\"][0]):\n",
    "        #     raise ValueError(\"Ranking length does not match number of documents\")\n",
    "        # if not len(set(ranking)) == len(ranking):\n",
    "        #     raise ValueError(\"Ranking contains duplicates\")\n",
    "        return [i - 1 for i in ranking]  # convert to 0-indexed\n",
    "    except ValueError as e:\n",
    "        print(f\"Failed to extract JSON: {e}\")\n",
    "        return None\n",
    "\n",
    "print(extract_rerank_response(rerank_response))"
   ]
  },
  {
   "cell_type": "code",
   "execution_count": 55,
   "metadata": {},
   "outputs": [
    {
     "name": "stdout",
     "output_type": "stream",
     "text": [
      "Failed to extract JSON: substring not found\n"
     ]
    },
    {
     "ename": "TypeError",
     "evalue": "'NoneType' object is not iterable",
     "output_type": "error",
     "traceback": [
      "\u001b[31m---------------------------------------------------------------------------\u001b[39m",
      "\u001b[31mTypeError\u001b[39m                                 Traceback (most recent call last)",
      "\u001b[36mCell\u001b[39m\u001b[36m \u001b[39m\u001b[32mIn[55]\u001b[39m\u001b[32m, line 1\u001b[39m\n\u001b[32m----> \u001b[39m\u001b[32m1\u001b[39m \u001b[43m[\u001b[49m\u001b[43mres\u001b[49m\u001b[43m[\u001b[49m\u001b[33;43m\"\u001b[39;49m\u001b[33;43mdocuments\u001b[39;49m\u001b[33;43m\"\u001b[39;49m\u001b[43m]\u001b[49m\u001b[43m[\u001b[49m\u001b[32;43m0\u001b[39;49m\u001b[43m]\u001b[49m\u001b[43m[\u001b[49m\u001b[43mi\u001b[49m\u001b[43m]\u001b[49m\u001b[43m \u001b[49m\u001b[38;5;28;43;01mfor\u001b[39;49;00m\u001b[43m \u001b[49m\u001b[43mi\u001b[49m\u001b[43m \u001b[49m\u001b[38;5;129;43;01min\u001b[39;49;00m\u001b[43m \u001b[49m\u001b[43mextract_rerank_response\u001b[49m\u001b[43m(\u001b[49m\u001b[43mrerank_response\u001b[49m\u001b[43m)\u001b[49m\u001b[43m]\u001b[49m\n",
      "\u001b[31mTypeError\u001b[39m: 'NoneType' object is not iterable"
     ]
    }
   ],
   "source": [
    "[res[\"documents\"][0][i] for i in extract_rerank_response(rerank_response)]"
   ]
  },
  {
   "cell_type": "code",
   "execution_count": null,
   "metadata": {},
   "outputs": [],
   "source": []
  }
 ],
 "metadata": {
  "kernelspec": {
   "display_name": ".venv",
   "language": "python",
   "name": "python3"
  },
  "language_info": {
   "codemirror_mode": {
    "name": "ipython",
    "version": 3
   },
   "file_extension": ".py",
   "mimetype": "text/x-python",
   "name": "python",
   "nbconvert_exporter": "python",
   "pygments_lexer": "ipython3",
   "version": "3.12.7"
  }
 },
 "nbformat": 4,
 "nbformat_minor": 2
}
